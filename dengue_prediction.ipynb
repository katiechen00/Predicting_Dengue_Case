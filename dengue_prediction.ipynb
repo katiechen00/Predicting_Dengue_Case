{
 "cells": [
  {
   "cell_type": "markdown",
   "metadata": {},
   "source": [
    "**Katie Chen <br>\n",
    "INFO 370 <br>\n",
    "3/2/2019**"
   ]
  },
  {
   "cell_type": "markdown",
   "metadata": {},
   "source": [
    "# Predicting Dengue Fever Cases\n",
    "In this report, we will predict the number of dengue fever cases using dataset from [Drivendata: Predicting Disease Speed](https://www.drivendata.org/competitions/44/dengai-predicting-disease-spread/page/80/). Dengue fever is transmitted between humans by Aedes aegypti mosquitos. Since Aedes aegypti mosquitos live in tropical and subtropical area, we will use cliamte variables such as temperature, humidity, precipitation and vegetation to predict the number of dengue fever cases in San Juan and Iquitos."
   ]
  },
  {
   "cell_type": "code",
   "execution_count": 215,
   "metadata": {},
   "outputs": [],
   "source": [
    "# Set up\n",
    "import pandas as pd\n",
    "import numpy as np\n",
    "import matplotlib.pyplot as plt\n",
    "import seaborn as sns\n",
    "%matplotlib inline\n",
    "import warnings\n",
    "\n",
    "warnings.filterwarnings('ignore')"
   ]
  },
  {
   "cell_type": "code",
   "execution_count": 216,
   "metadata": {},
   "outputs": [],
   "source": [
    "# read two csv files\n",
    "dengue_data = pd.read_csv('data/dengue_features_train.csv')\n",
    "dengue_cases = pd.read_csv('data/dengue_labels_train.csv')\n",
    "dengue_test = pd.read_csv('data/dengue_features_test.csv')\n",
    "\n",
    "# get the dataset outcome\n",
    "dengue_cases = dengue_cases['total_cases']\n",
    "\n",
    "# create a new variable to correct weekofyear for both training and test dataset\n",
    "dengue_data.insert(0, 'new_weekofyear', dengue_data['weekofyear'])\n",
    "dengue_test.insert(0, 'new_weekofyear', dengue_test['weekofyear'])\n",
    "\n",
    "# divide data into two dataframes, each with one city (for training and test set)\n",
    "sj_train = dengue_data[dengue_data['city'] == 'sj']\n",
    "iq_train = dengue_data[dengue_data['city'] == 'iq']\n",
    "sj_test = dengue_test[dengue_test['city'] == 'sj']\n",
    "iq_test = dengue_test[dengue_test['city'] == 'iq']\n",
    "\n",
    "# adjust the new_weekofyear to start from 1 for each year for sj and iq dataset\n",
    "for i in range(1993, 2007):\n",
    "    sj_train.loc[sj_train.year == i, 'new_weekofyear'] = list(range(1,53))\n",
    "iq_train.loc[iq_train.year == 2000, 'new_weekofyear'] += 1\n",
    "iq_train.loc[iq_train.year == 2010, 'new_weekofyear'] = list(range(1, iq_train[iq_train['year'] == 2010].shape[0]+1))\n",
    "for i in range(2005, 2007):\n",
    "    iq_train.loc[iq_train.year == i, 'new_weekofyear'] = list(range(1,53))\n",
    "\n",
    "for i in range(2010, 2013):\n",
    "    sj_test.loc[sj_test.year == i, 'new_weekofyear'] = list(range(1,53))\n",
    "iq_test.loc[iq_test.year == 2010, 'new_weekofyear'] += 1\n",
    "for i in range(2011, 2013):\n",
    "    iq_test.loc[iq_test.year == i, 'new_weekofyear'] = list(range(1,53))\n",
    "# combine two datasets\n",
    "dengue_data = pd.concat([sj_train, iq_train])\n",
    "dengue_test = pd.concat([sj_test, iq_test])"
   ]
  },
  {
   "cell_type": "markdown",
   "metadata": {},
   "source": [
    "# Data Preparation\n",
    "The dataset lists out dengue cases in San Juan and Iquitos. The attributes include temperature, precipitation, humidity, vegetation, year, weeek of year, city and number of dengue cases in each week. The dataset comes with training datset and test dataset. We will wrangle the training data for better prediction.\n",
    "\n",
    "We found out that `weekofyear` variable is inconsistent for each year. In most cases, each year has 52 weeks, however, some have week 53 and the 53rd week is in next year. In order to make the data easier to manipulate, we created a new variable `new_weekofyear` to correct the number of weeks for each year.\n",
    "\n",
    "This dataset has missing values, and we need to handle them either by removing them or replacing them with values. First, we took a look of the number of null values in each attribute.\n",
    "\n",
    "**Number of missing values in each attribute:**"
   ]
  },
  {
   "cell_type": "code",
   "execution_count": 217,
   "metadata": {},
   "outputs": [
    {
     "data": {
      "text/html": [
       "<div>\n",
       "<style scoped>\n",
       "    .dataframe tbody tr th:only-of-type {\n",
       "        vertical-align: middle;\n",
       "    }\n",
       "\n",
       "    .dataframe tbody tr th {\n",
       "        vertical-align: top;\n",
       "    }\n",
       "\n",
       "    .dataframe thead th {\n",
       "        text-align: right;\n",
       "    }\n",
       "</style>\n",
       "<table border=\"1\" class=\"dataframe\">\n",
       "  <thead>\n",
       "    <tr style=\"text-align: right;\">\n",
       "      <th></th>\n",
       "      <th>total_null</th>\n",
       "      <th>percentage</th>\n",
       "    </tr>\n",
       "  </thead>\n",
       "  <tbody>\n",
       "    <tr>\n",
       "      <th>ndvi_ne</th>\n",
       "      <td>194</td>\n",
       "      <td>0.133242</td>\n",
       "    </tr>\n",
       "    <tr>\n",
       "      <th>ndvi_nw</th>\n",
       "      <td>52</td>\n",
       "      <td>0.035714</td>\n",
       "    </tr>\n",
       "    <tr>\n",
       "      <th>station_diur_temp_rng_c</th>\n",
       "      <td>43</td>\n",
       "      <td>0.029533</td>\n",
       "    </tr>\n",
       "    <tr>\n",
       "      <th>station_avg_temp_c</th>\n",
       "      <td>43</td>\n",
       "      <td>0.029533</td>\n",
       "    </tr>\n",
       "    <tr>\n",
       "      <th>station_precip_mm</th>\n",
       "      <td>22</td>\n",
       "      <td>0.015110</td>\n",
       "    </tr>\n",
       "    <tr>\n",
       "      <th>ndvi_se</th>\n",
       "      <td>22</td>\n",
       "      <td>0.015110</td>\n",
       "    </tr>\n",
       "    <tr>\n",
       "      <th>ndvi_sw</th>\n",
       "      <td>22</td>\n",
       "      <td>0.015110</td>\n",
       "    </tr>\n",
       "    <tr>\n",
       "      <th>station_max_temp_c</th>\n",
       "      <td>20</td>\n",
       "      <td>0.013736</td>\n",
       "    </tr>\n",
       "    <tr>\n",
       "      <th>station_min_temp_c</th>\n",
       "      <td>14</td>\n",
       "      <td>0.009615</td>\n",
       "    </tr>\n",
       "    <tr>\n",
       "      <th>precipitation_amt_mm</th>\n",
       "      <td>13</td>\n",
       "      <td>0.008929</td>\n",
       "    </tr>\n",
       "    <tr>\n",
       "      <th>reanalysis_sat_precip_amt_mm</th>\n",
       "      <td>13</td>\n",
       "      <td>0.008929</td>\n",
       "    </tr>\n",
       "    <tr>\n",
       "      <th>reanalysis_precip_amt_kg_per_m2</th>\n",
       "      <td>10</td>\n",
       "      <td>0.006868</td>\n",
       "    </tr>\n",
       "    <tr>\n",
       "      <th>reanalysis_tdtr_k</th>\n",
       "      <td>10</td>\n",
       "      <td>0.006868</td>\n",
       "    </tr>\n",
       "    <tr>\n",
       "      <th>reanalysis_specific_humidity_g_per_kg</th>\n",
       "      <td>10</td>\n",
       "      <td>0.006868</td>\n",
       "    </tr>\n",
       "    <tr>\n",
       "      <th>reanalysis_relative_humidity_percent</th>\n",
       "      <td>10</td>\n",
       "      <td>0.006868</td>\n",
       "    </tr>\n",
       "    <tr>\n",
       "      <th>reanalysis_dew_point_temp_k</th>\n",
       "      <td>10</td>\n",
       "      <td>0.006868</td>\n",
       "    </tr>\n",
       "    <tr>\n",
       "      <th>reanalysis_min_air_temp_k</th>\n",
       "      <td>10</td>\n",
       "      <td>0.006868</td>\n",
       "    </tr>\n",
       "    <tr>\n",
       "      <th>reanalysis_max_air_temp_k</th>\n",
       "      <td>10</td>\n",
       "      <td>0.006868</td>\n",
       "    </tr>\n",
       "    <tr>\n",
       "      <th>reanalysis_avg_temp_k</th>\n",
       "      <td>10</td>\n",
       "      <td>0.006868</td>\n",
       "    </tr>\n",
       "    <tr>\n",
       "      <th>reanalysis_air_temp_k</th>\n",
       "      <td>10</td>\n",
       "      <td>0.006868</td>\n",
       "    </tr>\n",
       "    <tr>\n",
       "      <th>city</th>\n",
       "      <td>0</td>\n",
       "      <td>0.000000</td>\n",
       "    </tr>\n",
       "    <tr>\n",
       "      <th>week_start_date</th>\n",
       "      <td>0</td>\n",
       "      <td>0.000000</td>\n",
       "    </tr>\n",
       "    <tr>\n",
       "      <th>weekofyear</th>\n",
       "      <td>0</td>\n",
       "      <td>0.000000</td>\n",
       "    </tr>\n",
       "    <tr>\n",
       "      <th>year</th>\n",
       "      <td>0</td>\n",
       "      <td>0.000000</td>\n",
       "    </tr>\n",
       "    <tr>\n",
       "      <th>new_weekofyear</th>\n",
       "      <td>0</td>\n",
       "      <td>0.000000</td>\n",
       "    </tr>\n",
       "  </tbody>\n",
       "</table>\n",
       "</div>"
      ],
      "text/plain": [
       "                                       total_null  percentage\n",
       "ndvi_ne                                       194    0.133242\n",
       "ndvi_nw                                        52    0.035714\n",
       "station_diur_temp_rng_c                        43    0.029533\n",
       "station_avg_temp_c                             43    0.029533\n",
       "station_precip_mm                              22    0.015110\n",
       "ndvi_se                                        22    0.015110\n",
       "ndvi_sw                                        22    0.015110\n",
       "station_max_temp_c                             20    0.013736\n",
       "station_min_temp_c                             14    0.009615\n",
       "precipitation_amt_mm                           13    0.008929\n",
       "reanalysis_sat_precip_amt_mm                   13    0.008929\n",
       "reanalysis_precip_amt_kg_per_m2                10    0.006868\n",
       "reanalysis_tdtr_k                              10    0.006868\n",
       "reanalysis_specific_humidity_g_per_kg          10    0.006868\n",
       "reanalysis_relative_humidity_percent           10    0.006868\n",
       "reanalysis_dew_point_temp_k                    10    0.006868\n",
       "reanalysis_min_air_temp_k                      10    0.006868\n",
       "reanalysis_max_air_temp_k                      10    0.006868\n",
       "reanalysis_avg_temp_k                          10    0.006868\n",
       "reanalysis_air_temp_k                          10    0.006868\n",
       "city                                            0    0.000000\n",
       "week_start_date                                 0    0.000000\n",
       "weekofyear                                      0    0.000000\n",
       "year                                            0    0.000000\n",
       "new_weekofyear                                  0    0.000000"
      ]
     },
     "execution_count": 217,
     "metadata": {},
     "output_type": "execute_result"
    }
   ],
   "source": [
    "total_null = dengue_data.isnull().sum()\n",
    "percentage = dengue_data.isnull().sum() / dengue_data.isnull().count()\n",
    "null_value = pd.concat([total_null, percentage], axis = 1, keys = ['total_null', 'percentage'])\n",
    "null_value.sort_values('percentage', ascending = False)"
   ]
  },
  {
   "cell_type": "markdown",
   "metadata": {},
   "source": [
    "We saw that the worst offending column is `ndvi_ne`, which has 13% missing values. Since the percentage is not that high and this attribute is important for the prediction of outcome, we decided to impute missing values with the average of columns based on city. One problem is that temperature and precipitation vary by months. For example, in tropical regions, temperature and precipitation increase in summer and decrease in winter. Inspired by [Brian Connor's project](https://towardsdatascience.com/dengue-fever-and-how-to-predict-it-a32eab1dbb18), we replaced missing values with the average of columns for the same week. It is reasonable that the pattern in each week is similar for ever year."
   ]
  },
  {
   "cell_type": "code",
   "execution_count": 218,
   "metadata": {},
   "outputs": [],
   "source": [
    "# group by city and new_weekofyear to replace the missing values with the average of columns\n",
    "for i in list(dengue_data)[5:]:\n",
    "    dengue_data[i].fillna(dengue_data.groupby(['city', 'new_weekofyear'])[i].transform('mean'),\n",
    "                         inplace = True)\n",
    "\n",
    "for i in list(dengue_test)[5:]:\n",
    "    dengue_test[i].fillna(dengue_test.groupby(['city', 'new_weekofyear'])[i].transform('mean'),\n",
    "                         inplace = True)"
   ]
  },
  {
   "cell_type": "markdown",
   "metadata": {},
   "source": [
    "We split the dataset into training dataset and validation dataset to access the performance of models before using test dataset to predict the outcome.\n",
    "\n",
    "We normalized the data to a common scale. It is useful for models that rely on the magnitude of values, such as distance based metric used in K-Nearest Neighbors. We normalized training set first, then used the scaler that fitted to the training set to validation and test set. This prevented leaking information from test set.\n",
    "\n",
    "We will use training dataset to train models, then compare the prediction with validation set to access the performance of models."
   ]
  },
  {
   "cell_type": "code",
   "execution_count": 219,
   "metadata": {},
   "outputs": [],
   "source": [
    "# week_start_date\n",
    "week_start_date_train = dengue_data['week_start_date']\n",
    "week_start_date_test = dengue_test['week_start_date']\n",
    "\n",
    "# transform categorical value into dummy variables\n",
    "dengue_data = pd.get_dummies(dengue_data.drop(['week_start_date'], axis = 1))\n",
    "test_features = pd.get_dummies(dengue_test.drop(['week_start_date'], axis = 1))"
   ]
  },
  {
   "cell_type": "markdown",
   "metadata": {},
   "source": [
    "# Feature Engineering and Selection\n",
    "In the training dataset, there are four variables for vegetation level: `ndvi_ne`, `ndvi_nw`, `ndvi_se` and `ndvi_sw`. We would add a new feature `vegetation_mean` that takes the mean of these variables for better access of vegation level. \n",
    "\n",
    "There are 25 features in the dataset, and we want to select the best 15 features to train models. For feature selection algorithm, we used Recursive Feature Elimination to recursively removing attributes and building a model for those remaining attributes. It uses accuracy to select attributes that contribute the most to the outcome.\n",
    "\n",
    "**The best 15 attributes that we will use in machine learning models are:**"
   ]
  },
  {
   "cell_type": "code",
   "execution_count": 220,
   "metadata": {},
   "outputs": [
    {
     "name": "stdout",
     "output_type": "stream",
     "text": [
      "new_weekofyear\n",
      "year\n",
      "ndvi_ne\n",
      "ndvi_nw\n",
      "ndvi_se\n",
      "ndvi_sw\n",
      "reanalysis_dew_point_temp_k\n",
      "reanalysis_min_air_temp_k\n",
      "reanalysis_relative_humidity_percent\n",
      "station_avg_temp_c\n",
      "station_diur_temp_rng_c\n",
      "station_min_temp_c\n",
      "city_iq\n",
      "city_sj\n",
      "vegetation_mean\n"
     ]
    }
   ],
   "source": [
    "# add new features to both training and test set\n",
    "dengue_data['vegetation_mean'] = dengue_data.iloc[:, 3:7].sum(axis = 1) / 4\n",
    "test_features['vegetation_mean'] = test_features.iloc[:, 3:7].sum(axis = 1) / 4\n",
    "\n",
    "# get the list of columns\n",
    "features = np.array(list(dengue_data))\n",
    "\n",
    "# create training set and validation set\n",
    "from sklearn.model_selection import train_test_split\n",
    "train_features_small, validation_features, train_outcome_small, validation_outcome = train_test_split (\n",
    "    dengue_data.values, dengue_cases.values, test_size = 0.2)\n",
    "\n",
    "# normalize training, validation and test set\n",
    "from sklearn.preprocessing import MinMaxScaler\n",
    "scaler = MinMaxScaler().fit(train_features_small)\n",
    "train_features_scaled = scaler.transform(train_features_small)\n",
    "validation_features_scaled = scaler.transform(validation_features)\n",
    "\n",
    "# use recursive feature elimination to get the best 15 features\n",
    "from sklearn.feature_selection import RFE\n",
    "from sklearn.linear_model import LogisticRegression\n",
    "model = LogisticRegression()\n",
    "rfe = RFE(model, 15)\n",
    "fit = rfe.fit(train_features_scaled, np.array(train_outcome_small))\n",
    "best_features = features[fit.support_]\n",
    "for i in best_features:\n",
    "    print(i)"
   ]
  },
  {
   "cell_type": "markdown",
   "metadata": {},
   "source": [
    "# Modeling\n",
    "We will use training dataset to train 4 different algorithms, and look at the accuracy of each model to choose the best one for test dataset. The algorithms we decided to use are K-Nearest Neighbors Algorithm for Regression, Decision Tree, Random Forest and Linear Regression.\n",
    "\n",
    "### K-Nearest Neighbors Algorithm for Regression:\n",
    "\n",
    "The KNN algorithm uses similarity of data points to predict the value of any new data points. It makes assumption that similar data points are close to each other. When the number of neighbors k is chosen, it will take k points in the training set that are close to the new point, and the value of new point is calculated by taking the average of these k points.\n",
    "\n",
    "We used K-fold Cross Validation to get the average accuracy of 10 folds to see how the KNN model would perform. Thus, **for 14 neighbors, the average accuracy of 10 folds is:**"
   ]
  },
  {
   "cell_type": "code",
   "execution_count": 221,
   "metadata": {},
   "outputs": [
    {
     "name": "stdout",
     "output_type": "stream",
     "text": [
      "0.44767044969238123\n"
     ]
    }
   ],
   "source": [
    "# get the training set and validation set with the best 15 features\n",
    "df_scaled = pd.DataFrame(columns = features, data = train_features_scaled)\n",
    "vali_scaled = pd.DataFrame(columns = features, data = validation_features_scaled)\n",
    "opti_train_features = pd.DataFrame()\n",
    "for i in best_features:\n",
    "    opti_train_features = pd.concat([opti_train_features, df_scaled[i]], axis=1, sort=False)\n",
    "opti_vali_features = pd.DataFrame()\n",
    "for i in best_features:\n",
    "    opti_vali_features = pd.concat([opti_vali_features, vali_scaled[i]], axis=1, sort=False)\n",
    "    \n",
    "# use 10-fold cross validation\n",
    "from sklearn.neighbors import KNeighborsRegressor\n",
    "from sklearn.model_selection import KFold\n",
    "from sklearn.model_selection import cross_val_score\n",
    "knn_cv = KNeighborsRegressor()\n",
    "folds = KFold(n_splits=10, shuffle=True)\n",
    "cv_scores = cross_val_score(knn_cv, np.array(opti_train_features), train_outcome_small, cv = folds)\n",
    "print(cv_scores.mean())"
   ]
  },
  {
   "cell_type": "markdown",
   "metadata": {},
   "source": [
    "We then used Grid Search to select the best value of the number of neighbors from 1 to 30. **Using cross validation with 10 folds, the best value of the number of neighbors is:**"
   ]
  },
  {
   "cell_type": "code",
   "execution_count": 222,
   "metadata": {},
   "outputs": [
    {
     "data": {
      "text/plain": [
       "5"
      ]
     },
     "execution_count": 222,
     "metadata": {},
     "output_type": "execute_result"
    }
   ],
   "source": [
    "# use grid search to get the optimal number of neighbors\n",
    "from sklearn.model_selection import GridSearchCV\n",
    "knn = KNeighborsRegressor()\n",
    "param_grid = {'n_neighbors': np.arange(1,31)}\n",
    "grid_search = GridSearchCV(knn, param_grid, cv = 10)\n",
    "grid_search.fit(np.array(opti_train_features), train_outcome_small)\n",
    "best_neighbor = grid_search.best_params_\n",
    "best_neighbor.get('n_neighbors')"
   ]
  },
  {
   "cell_type": "markdown",
   "metadata": {},
   "source": [
    "**Using the best value of neighbors and cross validation with 10 folds, the accuracy of KNN model is:**"
   ]
  },
  {
   "cell_type": "code",
   "execution_count": 223,
   "metadata": {},
   "outputs": [
    {
     "name": "stdout",
     "output_type": "stream",
     "text": [
      "0.13449884585136118\n"
     ]
    }
   ],
   "source": [
    "# get the accuracy of the prediction\n",
    "knn_accuracy = grid_search.score(np.array(opti_vali_features), validation_outcome)\n",
    "print(knn_accuracy)"
   ]
  },
  {
   "cell_type": "markdown",
   "metadata": {},
   "source": [
    "### Decision Tree Regression\n",
    "\n",
    "Decision Tree Regression is a model that traverses down the branches of a tree and select the next branch based on the node. It takes a dataset as input, and split the dataset based on the attributes unitl reaches the child node. This algorithm is suitable for non-linear relationships. However, it might lead to overfitting because of the complex tree structure.\n",
    "\n",
    "We used K-fold Cross Validation to get the average accuracy of 10 folds to see how the decision tree model would perform. Thus, **the average accuracy of 10 folds is:**"
   ]
  },
  {
   "cell_type": "code",
   "execution_count": 224,
   "metadata": {},
   "outputs": [
    {
     "name": "stdout",
     "output_type": "stream",
     "text": [
      "0.5602420728048852\n"
     ]
    }
   ],
   "source": [
    "# use 10-fold cross validation\n",
    "from sklearn.tree import DecisionTreeRegressor\n",
    "tree_reg = DecisionTreeRegressor()\n",
    "folds = KFold(n_splits=10, shuffle=True)\n",
    "cv_scores = cross_val_score(tree_reg, np.array(opti_train_features), train_outcome_small, cv = folds)\n",
    "print(cv_scores.mean())"
   ]
  },
  {
   "cell_type": "markdown",
   "metadata": {},
   "source": [
    "We then used Grid Search to select the best value of the depth of the tree from 1 to 30. **Using cross validation with 10 folds, the best value of the depth of the tree is:**"
   ]
  },
  {
   "cell_type": "code",
   "execution_count": 225,
   "metadata": {},
   "outputs": [
    {
     "data": {
      "text/plain": [
       "14"
      ]
     },
     "execution_count": 225,
     "metadata": {},
     "output_type": "execute_result"
    }
   ],
   "source": [
    "# use grid search to get the optimal value of the depth of the tree\n",
    "tree = DecisionTreeRegressor()\n",
    "param_grid = {'max_depth': np.arange(1,31)}\n",
    "grid_tree = GridSearchCV(tree, param_grid, cv = 10)\n",
    "grid_tree.fit(np.array(opti_train_features), train_outcome_small)\n",
    "best_depth = grid_tree.best_params_\n",
    "best_depth.get('max_depth')"
   ]
  },
  {
   "cell_type": "markdown",
   "metadata": {},
   "source": [
    "**Using the best value of the depth of the tree and cross validation with 10 folds, the accuracy of Decision Tree model is:**"
   ]
  },
  {
   "cell_type": "code",
   "execution_count": 226,
   "metadata": {},
   "outputs": [
    {
     "name": "stdout",
     "output_type": "stream",
     "text": [
      "0.1813484448250583\n"
     ]
    }
   ],
   "source": [
    "# get the accuracy of the prediction\n",
    "tree_accuracy = grid_tree.score(np.array(opti_vali_features), validation_outcome)\n",
    "print(tree_accuracy)"
   ]
  },
  {
   "cell_type": "markdown",
   "metadata": {},
   "source": [
    "### Random Forest Regression\n",
    "\n",
    "Random Forest Regression is an ensemble of decision trees. It randomly divides the datset into multiple decision trees and combines them to get the average of the results. Mostly it has better accuracy than Decision Tree because it prevent overfitting.\n",
    "\n",
    "We used K-fold Cross Validation to get the average accuracy of 10 folds to see how the Random Forest model would perform. Thus, **the average accuracy of 10 folds is:**"
   ]
  },
  {
   "cell_type": "code",
   "execution_count": 227,
   "metadata": {},
   "outputs": [
    {
     "name": "stdout",
     "output_type": "stream",
     "text": [
      "0.6335343815274364\n"
     ]
    }
   ],
   "source": [
    "# use 10-fold cross validation\n",
    "from sklearn.ensemble import RandomForestRegressor\n",
    "rf = RandomForestRegressor()\n",
    "folds = KFold(n_splits=10, shuffle=True)\n",
    "cv_scores = cross_val_score(rf, np.array(opti_train_features), train_outcome_small, cv = folds)\n",
    "print(cv_scores.mean())"
   ]
  },
  {
   "cell_type": "markdown",
   "metadata": {},
   "source": [
    "We then used Grid Search to select the best value of the depth of the tree from 1 to 30. **Using cross validation with 10 folds, the best value of the depth of the tree is:**"
   ]
  },
  {
   "cell_type": "code",
   "execution_count": 228,
   "metadata": {},
   "outputs": [
    {
     "data": {
      "text/plain": [
       "21"
      ]
     },
     "execution_count": 228,
     "metadata": {},
     "output_type": "execute_result"
    }
   ],
   "source": [
    "# use grid search to get the optimal value of the depth of the tree\n",
    "rf = RandomForestRegressor()\n",
    "param_grid = {'max_depth': np.arange(1, 31)}\n",
    "grid_tree = GridSearchCV(rf, param_grid, cv = 10)\n",
    "grid_tree.fit(np.array(opti_train_features), train_outcome_small)\n",
    "best_depth_ran = grid_tree.best_params_\n",
    "best_depth_ran.get('max_depth')"
   ]
  },
  {
   "cell_type": "markdown",
   "metadata": {},
   "source": [
    "**Using the best value of the depth of the tree and cross validation with 10 folds, the accuracy of Random Forest model is:**"
   ]
  },
  {
   "cell_type": "code",
   "execution_count": 229,
   "metadata": {},
   "outputs": [
    {
     "name": "stdout",
     "output_type": "stream",
     "text": [
      "0.6152418902672144\n"
     ]
    }
   ],
   "source": [
    "# get the accuracy of the prediction\n",
    "ran_accuracy = grid_tree.score(np.array(opti_vali_features), validation_outcome)\n",
    "print(ran_accuracy)"
   ]
  },
  {
   "cell_type": "markdown",
   "metadata": {},
   "source": [
    "### Linear Regression\n",
    "\n",
    "Linear Regression builds a linear relationship between independent and dependent variables. It generates a fitted line to predict the outcome. This model is suitable for data who has linear relationship.\n",
    "\n",
    "We used K-fold Cross Validation to get the average accuracy of 10 folds to see how the linear regression model would perform. Thus, **the average accuracy of 10 folds is:**"
   ]
  },
  {
   "cell_type": "code",
   "execution_count": 230,
   "metadata": {},
   "outputs": [
    {
     "name": "stdout",
     "output_type": "stream",
     "text": [
      "0.1565009959107842\n"
     ]
    }
   ],
   "source": [
    "# use 10-fold cross validation\n",
    "from sklearn.linear_model import LinearRegression\n",
    "lm = LinearRegression()\n",
    "folds = KFold(n_splits=10, shuffle=True)\n",
    "cv_scores = cross_val_score(lm, np.array(opti_train_features), train_outcome_small, cv = folds)\n",
    "print(cv_scores.mean())"
   ]
  },
  {
   "cell_type": "markdown",
   "metadata": {},
   "source": [
    "We then used Grid Search to decide if the intercept is needed. Using cross validation with 10 folds, the result is:"
   ]
  },
  {
   "cell_type": "code",
   "execution_count": 231,
   "metadata": {},
   "outputs": [
    {
     "data": {
      "text/plain": [
       "{'fit_intercept': True}"
      ]
     },
     "execution_count": 231,
     "metadata": {},
     "output_type": "execute_result"
    }
   ],
   "source": [
    "# use grid search to decide if the intercept is needed\n",
    "lm = LinearRegression()\n",
    "param_grid = {'fit_intercept': [True, False]}\n",
    "grid = GridSearchCV(lm, param_grid, cv = 10)\n",
    "grid.fit(np.array(opti_train_features), train_outcome_small)\n",
    "best_param = grid.best_params_\n",
    "best_param"
   ]
  },
  {
   "cell_type": "markdown",
   "metadata": {},
   "source": [
    "**Using the result above and cross validation with 10 folds, the accuracy of linear regression model is:**"
   ]
  },
  {
   "cell_type": "code",
   "execution_count": 232,
   "metadata": {},
   "outputs": [
    {
     "name": "stdout",
     "output_type": "stream",
     "text": [
      "0.15665812447600358\n"
     ]
    }
   ],
   "source": [
    "# get the accuracy of the prediction\n",
    "lm_accuracy = grid.score(np.array(opti_vali_features), validation_outcome)\n",
    "print(lm_accuracy)"
   ]
  },
  {
   "cell_type": "markdown",
   "metadata": {},
   "source": [
    "# Validation and Visualization\n",
    "\n",
    "We compared the accuracy across KNN model, Decision Tree, Random Forest and Linear Regression. "
   ]
  },
  {
   "cell_type": "code",
   "execution_count": 233,
   "metadata": {},
   "outputs": [
    {
     "data": {
      "text/html": [
       "<div>\n",
       "<style scoped>\n",
       "    .dataframe tbody tr th:only-of-type {\n",
       "        vertical-align: middle;\n",
       "    }\n",
       "\n",
       "    .dataframe tbody tr th {\n",
       "        vertical-align: top;\n",
       "    }\n",
       "\n",
       "    .dataframe thead th {\n",
       "        text-align: right;\n",
       "    }\n",
       "</style>\n",
       "<table border=\"1\" class=\"dataframe\">\n",
       "  <thead>\n",
       "    <tr style=\"text-align: right;\">\n",
       "      <th></th>\n",
       "      <th>model</th>\n",
       "      <th>accuracy</th>\n",
       "    </tr>\n",
       "  </thead>\n",
       "  <tbody>\n",
       "    <tr>\n",
       "      <th>0</th>\n",
       "      <td>KNN</td>\n",
       "      <td>0.134499</td>\n",
       "    </tr>\n",
       "    <tr>\n",
       "      <th>1</th>\n",
       "      <td>Decision Tree</td>\n",
       "      <td>0.181348</td>\n",
       "    </tr>\n",
       "    <tr>\n",
       "      <th>2</th>\n",
       "      <td>Random Forest</td>\n",
       "      <td>0.615242</td>\n",
       "    </tr>\n",
       "    <tr>\n",
       "      <th>3</th>\n",
       "      <td>Linear Regression</td>\n",
       "      <td>0.156658</td>\n",
       "    </tr>\n",
       "  </tbody>\n",
       "</table>\n",
       "</div>"
      ],
      "text/plain": [
       "               model  accuracy\n",
       "0                KNN  0.134499\n",
       "1      Decision Tree  0.181348\n",
       "2      Random Forest  0.615242\n",
       "3  Linear Regression  0.156658"
      ]
     },
     "execution_count": 233,
     "metadata": {},
     "output_type": "execute_result"
    }
   ],
   "source": [
    "# put accuracy value into a dataframe\n",
    "accuracy = pd.DataFrame()\n",
    "model = ['KNN', 'Decision Tree', 'Random Forest', 'Linear Regression']\n",
    "accuracy_score = [knn_accuracy, tree_accuracy, ran_accuracy, lm_accuracy]\n",
    "accuracy['model'] = model\n",
    "accuracy['accuracy'] = accuracy_score\n",
    "accuracy"
   ]
  },
  {
   "cell_type": "markdown",
   "metadata": {},
   "source": [
    "We then compared the predicted values from each model to the actual outcome."
   ]
  },
  {
   "cell_type": "code",
   "execution_count": 234,
   "metadata": {},
   "outputs": [
    {
     "data": {
      "image/png": "[encoded data removed]",
      "text/plain": [
       "<Figure size 1080x576 with 1 Axes>"
      ]
     },
     "metadata": {
      "needs_background": "light"
     },
     "output_type": "display_data"
    }
   ],
   "source": [
    "# predicted value from KNN model\n",
    "knn_reg = KNeighborsRegressor(n_neighbors = best_neighbor.get('n_neighbors'))\n",
    "knn_fit = knn_reg.fit(np.array(opti_train_features), train_outcome_small)\n",
    "knn_pred = knn_fit.predict(np.array(opti_vali_features))\n",
    "\n",
    "# predicted value from Decision Tree model\n",
    "dt = DecisionTreeRegressor(max_depth = best_depth.get('max_depth'))\n",
    "dt_fit = dt.fit(np.array(opti_train_features), train_outcome_small)\n",
    "dt_pred = dt_fit.predict(np.array(opti_vali_features))\n",
    "\n",
    "# predicted value from Random Forest model\n",
    "rf = RandomForestRegressor(max_depth = best_depth_ran.get('max_depth'))\n",
    "rf_fit = rf.fit(np.array(opti_train_features), train_outcome_small)\n",
    "rf_pred = rf_fit.predict(np.array(opti_vali_features))\n",
    "\n",
    "# predicted value from Linear Regression model\n",
    "lm = LinearRegression(fit_intercept = best_param.get('fit_intercept'))\n",
    "lm_fit = lm.fit(np.array(opti_train_features), train_outcome_small)\n",
    "lm_pred = lm_fit.predict(np.array(opti_vali_features))\n",
    "\n",
    "# scatter plot (actual vs predicted)\n",
    "plt.figure(figsize=(15,8))\n",
    "plt.plot(validation_outcome, validation_outcome, label = 'Actual')\n",
    "plt.scatter(validation_outcome, knn_pred, label = 'KNN predict')\n",
    "plt.scatter(validation_outcome, dt_pred, label = 'Distance Tree predict')\n",
    "plt.scatter(validation_outcome, rf_pred, label = 'Random Forest predict')\n",
    "plt.scatter(validation_outcome, lm_pred, label = 'Linear Regression predict')\n",
    "plt.title('Actual Dengue Cases vs Predicted Cases')\n",
    "plt.xlabel('actual cases')\n",
    "plt.ylabel('predicted cases')\n",
    "plt.legend()\n",
    "plt.show()"
   ]
  },
  {
   "cell_type": "markdown",
   "metadata": {},
   "source": [
    "We used residual plot to see if the differences between actual value and predicted value are evenly distributed."
   ]
  },
  {
   "cell_type": "code",
   "execution_count": 235,
   "metadata": {},
   "outputs": [
    {
     "data": {
      "image/png": "[encoded data removed]",
      "text/plain": [
       "<Figure size 432x288 with 4 Axes>"
      ]
     },
     "metadata": {
      "needs_background": "light"
     },
     "output_type": "display_data"
    }
   ],
   "source": [
    "# residual plot\n",
    "fig, ((ax1, ax2), (ax3, ax4)) = plt.subplots(nrows=2, ncols=2, sharex=True, sharey=True)\n",
    "ax1.scatter(knn_pred, validation_outcome - knn_pred)\n",
    "ax1.hlines(y = 0, xmin = 0, xmax = 400, linestyle = ':')\n",
    "ax1.set_title('KNN model')\n",
    "ax2.scatter(dt_pred, validation_outcome - dt_pred)\n",
    "ax2.hlines(y = 0, xmin = 0, xmax = 400, linestyle = ':')\n",
    "ax2.set_title('Decision Tree model')\n",
    "ax3.scatter(rf_pred, validation_outcome - rf_pred)\n",
    "ax3.hlines(y = 0, xmin = 0, xmax = 400, linestyle = ':')\n",
    "ax3.set_title('Random Forest model')\n",
    "ax4.scatter(lm_pred, validation_outcome - lm_pred)\n",
    "ax4.hlines(y = 0, xmin = 0, xmax = 400, linestyle = ':')\n",
    "ax4.set_title('Linear Regression model')\n",
    "plt.suptitle('Residual Plot')\n",
    "plt.show()"
   ]
  },
  {
   "cell_type": "markdown",
   "metadata": {},
   "source": [
    "Among these four models, we could see that Random Forest has the highest accuracy. In the scatter plot, the predicted values from Random Forest model are the cloest to the actual values. In the residual plot, the difference between actual values and predicted values are evenly distributed. Therefore, we concluded that **the best model among these four models are Random Forest.** We would use this model to predict the outcome."
   ]
  },
  {
   "cell_type": "code",
   "execution_count": 236,
   "metadata": {},
   "outputs": [],
   "source": [
    "# use the whole training set to normalize training and test set\n",
    "from sklearn.preprocessing import MinMaxScaler\n",
    "scaler = MinMaxScaler().fit(dengue_data.values)\n",
    "train_features_scaled = scaler.transform(dengue_data.values)\n",
    "test_features_scaled = scaler.transform(test_features.values)\n",
    "\n",
    "#  get the best 15 features for training scaled set and test scaled set\n",
    "train_scaled_df = pd.DataFrame(columns = features, data = train_features_scaled)\n",
    "test_scaled_df = pd.DataFrame(columns = features, data = test_features_scaled)\n",
    "opti_train_features = pd.DataFrame()\n",
    "for i in best_features:\n",
    "    opti_train_features = pd.concat([opti_train_features, train_scaled_df[i]], axis=1, sort=False)\n",
    "opti_test_features = pd.DataFrame()\n",
    "for i in best_features:\n",
    "    opti_test_features = pd.concat([opti_test_features, test_scaled_df[i]], axis=1, sort=False)\n",
    "\n",
    "# predict the number of dengue cases in test set\n",
    "rf_test = RandomForestRegressor(max_depth = best_depth_ran.get('max_depth'))\n",
    "rf_test_fit = rf_test.fit(np.array(opti_train_features), dengue_cases.values)\n",
    "rf_pred = rf_test_fit.predict(np.array(opti_test_features))\n",
    "test_pred = [int(round(x)) for x in rf_pred]"
   ]
  },
  {
   "cell_type": "code",
   "execution_count": 237,
   "metadata": {},
   "outputs": [],
   "source": [
    "# make submission\n",
    "submission = pd.read_csv('data/submission_format.csv')\n",
    "submission['total_cases'] = test_pred\n",
    "submission.to_csv('submission.csv', index = False)"
   ]
  }
 ],
 "metadata": {
  "kernelspec": {
   "display_name": "Python 3",
   "language": "python",
   "name": "python3"
  },
  "language_info": {
   "codemirror_mode": {
    "name": "ipython",
    "version": 3
   },
   "file_extension": ".py",
   "mimetype": "text/x-python",
   "name": "python",
   "nbconvert_exporter": "python",
   "pygments_lexer": "ipython3",
   "version": "3.7.1"
  }
 },
 "nbformat": 4,
 "nbformat_minor": 2
}
